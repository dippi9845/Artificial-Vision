{
 "cells": [
  {
   "cell_type": "code",
   "execution_count": 1,
   "id": "9ab62954",
   "metadata": {},
   "outputs": [],
   "source": [
    "import numpy as np\n",
    "import cv2 as cv"
   ]
  },
  {
   "cell_type": "code",
   "execution_count": 7,
   "id": "9505eadd",
   "metadata": {},
   "outputs": [],
   "source": [
    "def esercizio(img):\n",
    "    gray_img = cv.cvtColor(img, cv.COLOR_BGR2GRAY)\n",
    "    \n",
    "    img_g1 = cv.GaussianBlur(gray_img, (5, 5), 1)\n",
    "    img_g2 = cv.GaussianBlur(gray_img, (11, 11), 4)\n",
    "    \n",
    "    diff = img_g2.astype(np.int16) - img_g1\n",
    "    \n",
    "    # diff[diff < 0] = 0 ridondante\n",
    "    \n",
    "    img_d = np.clip(diff, 0, 255, dtype=np.uint8)\n",
    "    img_d = cv.normalize(img_d, None, 0, 255, cv.NORM_MINMAX)\n",
    "    green = cv.Canny(img_g2, 70, 30)\n",
    "    \n",
    "    return cv.merge((gray_img, green, img_d))"
   ]
  },
  {
   "cell_type": "code",
   "execution_count": null,
   "id": "b78ff3ad",
   "metadata": {},
   "outputs": [],
   "source": [
    "#esercizio(np.random.normal(0))"
   ]
  }
 ],
 "metadata": {
  "kernelspec": {
   "display_name": "Python 3 (ipykernel)",
   "language": "python",
   "name": "python3"
  },
  "language_info": {
   "codemirror_mode": {
    "name": "ipython",
    "version": 3
   },
   "file_extension": ".py",
   "mimetype": "text/x-python",
   "name": "python",
   "nbconvert_exporter": "python",
   "pygments_lexer": "ipython3",
   "version": "3.9.16"
  }
 },
 "nbformat": 4,
 "nbformat_minor": 5
}
