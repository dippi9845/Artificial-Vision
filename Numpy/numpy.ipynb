{
 "cells": [
  {
   "cell_type": "code",
   "execution_count": 2,
   "id": "5b4adb00-54ad-480d-96ab-27b844b498ae",
   "metadata": {},
   "outputs": [],
   "source": [
    "import numpy as np\n",
    "import va"
   ]
  },
  {
   "cell_type": "code",
   "execution_count": 3,
   "id": "0188312f-ecb3-440f-b6ac-53c9fa3ca466",
   "metadata": {},
   "outputs": [],
   "source": [
    "def perfetti(k):\n",
    "    pass\n"
   ]
  },
  {
   "cell_type": "code",
   "execution_count": null,
   "id": "46d21dc2",
   "metadata": {},
   "outputs": [],
   "source": []
  }
 ],
 "metadata": {
  "kernelspec": {
   "display_name": "Python 3 (ipykernel)",
   "language": "python",
   "name": "python3"
  },
  "language_info": {
   "codemirror_mode": {
    "name": "ipython",
    "version": 3
   },
   "file_extension": ".py",
   "mimetype": "text/x-python",
   "name": "python",
   "nbconvert_exporter": "python",
   "pygments_lexer": "ipython3",
   "version": "3.10.9"
  }
 },
 "nbformat": 4,
 "nbformat_minor": 5
}
