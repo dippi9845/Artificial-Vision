{
 "cells": [
  {
   "cell_type": "code",
   "execution_count": 1,
   "id": "81b50da2",
   "metadata": {},
   "outputs": [],
   "source": [
    "import numpy as np\n",
    "import cv2 as cv"
   ]
  },
  {
   "cell_type": "code",
   "execution_count": 32,
   "id": "bde5300e",
   "metadata": {},
   "outputs": [],
   "source": [
    "def esercizio(frames):\n",
    "    diff_frames = [frames[idx + 1] - frames[idx].astype(np.int16) for idx in range(len(frames)-1)]\n",
    "    # --------\n",
    "    masks = [cv.threshold(np.abs(frame), 20, 255, cv.THRESH_BINARY)[1] for frame in frames]\n",
    "    \n",
    "    # --------\n",
    "    for frame in masks:\n",
    "        count, cc, stats, _ = cv.connectedComponentsWithStats(frame)\n",
    "        toRemove = [i for i in range(count) if stats[i, cv.CC_STAT_AREA] < 20]\n",
    "        frame[np.isin(cc, toRemove)] = 0\n",
    "    \n",
    "    # --------\n",
    "    \n",
    "    max_idx, max_frame = max(enumerate(frame), key=lambda x: np.count_nonzero(x[1]))\n",
    "    \n",
    "    \n",
    "    return max_idx, max_frame"
   ]
  },
  {
   "cell_type": "code",
   "execution_count": 33,
   "id": "bf387dd1",
   "metadata": {},
   "outputs": [
    {
     "ename": "error",
     "evalue": "OpenCV(4.7.0) D:\\a\\opencv-python\\opencv-python\\opencv\\modules\\imgproc\\src\\connectedcomponents.cpp:5623: error: (-215:Assertion failed) L.channels() == 1 && I.channels() == 1 in function 'cv::connectedComponents_sub1'\n",
     "output_type": "error",
     "traceback": [
      "\u001b[1;31m---------------------------------------------------------------------------\u001b[0m",
      "\u001b[1;31merror\u001b[0m                                     Traceback (most recent call last)",
      "Cell \u001b[1;32mIn[33], line 4\u001b[0m\n\u001b[0;32m      2\u001b[0m _, video1 \u001b[38;5;241m=\u001b[39m cap\u001b[38;5;241m.\u001b[39mread()\n\u001b[0;32m      3\u001b[0m _, video2 \u001b[38;5;241m=\u001b[39m cap\u001b[38;5;241m.\u001b[39mread()\n\u001b[1;32m----> 4\u001b[0m \u001b[43mesercizio\u001b[49m\u001b[43m(\u001b[49m\u001b[43m[\u001b[49m\u001b[43mvideo1\u001b[49m\u001b[43m,\u001b[49m\u001b[43m \u001b[49m\u001b[43mvideo2\u001b[49m\u001b[43m]\u001b[49m\u001b[43m)\u001b[49m\n",
      "Cell \u001b[1;32mIn[32], line 8\u001b[0m, in \u001b[0;36mesercizio\u001b[1;34m(frames)\u001b[0m\n\u001b[0;32m      6\u001b[0m \u001b[38;5;66;03m# --------\u001b[39;00m\n\u001b[0;32m      7\u001b[0m \u001b[38;5;28;01mfor\u001b[39;00m frame \u001b[38;5;129;01min\u001b[39;00m masks:\n\u001b[1;32m----> 8\u001b[0m     count, cc, stats, _ \u001b[38;5;241m=\u001b[39m \u001b[43mcv\u001b[49m\u001b[38;5;241;43m.\u001b[39;49m\u001b[43mconnectedComponentsWithStats\u001b[49m\u001b[43m(\u001b[49m\u001b[43mframe\u001b[49m\u001b[43m)\u001b[49m\n\u001b[0;32m      9\u001b[0m     toRemove \u001b[38;5;241m=\u001b[39m [i \u001b[38;5;28;01mfor\u001b[39;00m i \u001b[38;5;129;01min\u001b[39;00m \u001b[38;5;28mrange\u001b[39m(count) \u001b[38;5;28;01mif\u001b[39;00m stats[i, cv\u001b[38;5;241m.\u001b[39mCC_STAT_AREA] \u001b[38;5;241m<\u001b[39m \u001b[38;5;241m20\u001b[39m]\n\u001b[0;32m     10\u001b[0m     frame[np\u001b[38;5;241m.\u001b[39misin(cc, toRemove)] \u001b[38;5;241m=\u001b[39m \u001b[38;5;241m0\u001b[39m\n",
      "\u001b[1;31merror\u001b[0m: OpenCV(4.7.0) D:\\a\\opencv-python\\opencv-python\\opencv\\modules\\imgproc\\src\\connectedcomponents.cpp:5623: error: (-215:Assertion failed) L.channels() == 1 && I.channels() == 1 in function 'cv::connectedComponents_sub1'\n"
     ]
    }
   ],
   "source": [
    "cap = cv.VideoCapture('movimento/pacman.mp4', )\n",
    "_, video1 = cap.read()\n",
    "_, video2 = cap.read()\n",
    "esercizio([video1, video2])"
   ]
  },
  {
   "cell_type": "code",
   "execution_count": null,
   "id": "73f319c0",
   "metadata": {},
   "outputs": [],
   "source": []
  }
 ],
 "metadata": {
  "kernelspec": {
   "display_name": "Python 3 (ipykernel)",
   "language": "python",
   "name": "python3"
  },
  "language_info": {
   "codemirror_mode": {
    "name": "ipython",
    "version": 3
   },
   "file_extension": ".py",
   "mimetype": "text/x-python",
   "name": "python",
   "nbconvert_exporter": "python",
   "pygments_lexer": "ipython3",
   "version": "3.9.16"
  }
 },
 "nbformat": 4,
 "nbformat_minor": 5
}
