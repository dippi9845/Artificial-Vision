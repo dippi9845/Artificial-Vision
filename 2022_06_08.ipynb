{
 "cells": [
  {
   "cell_type": "code",
   "execution_count": 2,
   "id": "8907fb7d",
   "metadata": {},
   "outputs": [],
   "source": [
    "import numpy as np\n",
    "import cv2 as cv"
   ]
  },
  {
   "cell_type": "code",
   "execution_count": 3,
   "id": "db5649ab",
   "metadata": {},
   "outputs": [],
   "source": [
    "def esercizio(img):\n",
    "    img_mean = cv.boxFilter(img, -1, (7, 7))\n",
    "    img_mean[:3], img_mean[:, :3], img_mean[:-3], img_mean[:, :-3] = 0, 0, 0, 0\n",
    "    \n",
    "    diff = np.abs(img - img_mean)\n",
    "    \n",
    "    v_min, v_max = diff.min(), diff.max()\n",
    "    \n",
    "    if v_max > v_min:\n",
    "        \n",
    "        diff = (diff - v_min) / ( v_max - v_min )\n",
    "    \n",
    "    _, bin_img = cv.threshold(diff, 128, 255, cv.THRESH_BINARY)\n",
    "    \n",
    "    count, cc, stats, _ = cv.connectedComponentsWithStats(bin_img)\n",
    "    \n",
    "    toRemove = np.argwhere(stats[:, cv.CC_STAT_AREA] < 15)\n",
    "    return np.where(np.isin(cc, toRemove), 0, bin_img).astype(np.uint8)\n",
    "    "
   ]
  },
  {
   "cell_type": "code",
   "execution_count": null,
   "id": "bb62d584",
   "metadata": {},
   "outputs": [],
   "source": []
  }
 ],
 "metadata": {
  "kernelspec": {
   "display_name": "Python 3 (ipykernel)",
   "language": "python",
   "name": "python3"
  },
  "language_info": {
   "codemirror_mode": {
    "name": "ipython",
    "version": 3
   },
   "file_extension": ".py",
   "mimetype": "text/x-python",
   "name": "python",
   "nbconvert_exporter": "python",
   "pygments_lexer": "ipython3",
   "version": "3.9.16"
  }
 },
 "nbformat": 4,
 "nbformat_minor": 5
}
